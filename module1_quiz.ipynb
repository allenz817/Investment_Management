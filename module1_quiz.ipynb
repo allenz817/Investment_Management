{
 "cells": [
  {
   "cell_type": "markdown",
   "id": "3336bd77",
   "metadata": {},
   "source": [
    "Read in the data in the file “Portfolios_Formed_on_ME_monthly_EW.csv” as we did in the lab sessions.We performed a series of analysis on the ‘Lo 10’ and the ‘Hi 10’ columns which are the returns of the lowest and highest decile portfolios. For purposes of this assignment, we will use the lowest and highest quintile portfolios, which are labelled ‘Lo 20’ and ‘Hi 20’ respectively."
   ]
  },
  {
   "cell_type": "markdown",
   "id": "5acba8c5",
   "metadata": {},
   "source": [
    "Question 1\n",
    "What was the Annualized Return of the Lo 20 portfolio over the entire period?"
   ]
  },
  {
   "cell_type": "code",
   "execution_count": 2,
   "id": "a0a73d7e",
   "metadata": {},
   "outputs": [
    {
     "data": {
      "text/plain": [
       "15.197701163833743"
      ]
     },
     "execution_count": 2,
     "metadata": {},
     "output_type": "execute_result"
    }
   ],
   "source": [
    "import pandas as pd\n",
    "import numpy as np\n",
    "\n",
    "# Read the CSV file\n",
    "df = pd.read_csv(\"data/Portfolios_Formed_on_ME_monthly_EW.csv\", header=0, index_col=0)\n",
    "lo_20_returns = df['Lo 20'] / 100\n",
    "\n",
    "n_months = len(lo_20_returns)\n",
    "n_years = n_months / 12\n",
    "\n",
    "cumulative_return = (1 + lo_20_returns).prod()\n",
    "annualized_return = (cumulative_return ** (1 / n_years) - 1) * 100\n",
    "\n",
    "annualized_return"
   ]
  },
  {
   "cell_type": "markdown",
   "id": "3a01b247",
   "metadata": {},
   "source": [
    "Question 2\n",
    "What was the Annualized Volatility of the Lo 20 portfolio over the entire period? "
   ]
  },
  {
   "cell_type": "code",
   "execution_count": 3,
   "id": "ed1a1688",
   "metadata": {},
   "outputs": [
    {
     "data": {
      "text/plain": [
       "33.67012751715775"
      ]
     },
     "execution_count": 3,
     "metadata": {},
     "output_type": "execute_result"
    }
   ],
   "source": [
    "monthly_volatility = lo_20_returns.std()\n",
    "annualized_volatility = monthly_volatility * np.sqrt(12) * 100\n",
    "annualized_volatility"
   ]
  },
  {
   "cell_type": "markdown",
   "id": "b3740bf0",
   "metadata": {},
   "source": [
    "Question 3\n",
    "What was the Annualized Return of the Hi 20 portfolio over the entire period? "
   ]
  },
  {
   "cell_type": "code",
   "execution_count": 4,
   "id": "6bac64de",
   "metadata": {},
   "outputs": [
    {
     "data": {
      "text/plain": [
       "9.849020951253152"
      ]
     },
     "execution_count": 4,
     "metadata": {},
     "output_type": "execute_result"
    }
   ],
   "source": [
    "hi_20_returns = df['Hi 20'] / 100\n",
    "\n",
    "n_months = len(hi_20_returns)\n",
    "n_years = n_months / 12\n",
    "\n",
    "cumulative_return = (1 + hi_20_returns).prod()\n",
    "annualized_return = (cumulative_return ** (1 / n_years) - 1) * 100\n",
    "\n",
    "annualized_return"
   ]
  },
  {
   "cell_type": "markdown",
   "id": "1b39d78b",
   "metadata": {},
   "source": [
    "Question 4\n",
    "What was the Annualized Volatility of the Hi 20 portfolio over the entire period ? "
   ]
  },
  {
   "cell_type": "code",
   "execution_count": 5,
   "id": "2d446250",
   "metadata": {},
   "outputs": [
    {
     "data": {
      "text/plain": [
       "19.511604155631314"
      ]
     },
     "execution_count": 5,
     "metadata": {},
     "output_type": "execute_result"
    }
   ],
   "source": [
    "monthly_volatility_hi = hi_20_returns.std()\n",
    "annualized_volatility_hi = monthly_volatility_hi * np.sqrt(12) * 100\n",
    "annualized_volatility_hi"
   ]
  },
  {
   "cell_type": "markdown",
   "id": "eef9687a",
   "metadata": {},
   "source": [
    "Question 5\n",
    "What was the Annualized Return of the Lo 20 portfolio over the period 1999 - 2015 (both inclusive)? "
   ]
  },
  {
   "cell_type": "markdown",
   "id": "e5309c63",
   "metadata": {},
   "source": [
    "Question 6\n",
    "What was the Annualized Volatility of the Lo 20 portfolio over the period 1999 - 2015 (both inclusive)? "
   ]
  },
  {
   "cell_type": "markdown",
   "id": "a4fe5290",
   "metadata": {},
   "source": [
    "Question 7\n",
    "What was the Annualized Return of the Hi 20 portfolio over the period  1999 - 2015 (both inclusive)?"
   ]
  },
  {
   "cell_type": "markdown",
   "id": "68ae4c86",
   "metadata": {},
   "source": [
    "Question 8\n",
    "What was the Annualized Volatility of the Hi 20 portfolio over the period 1999 - 2015 (both inclusive)?  "
   ]
  },
  {
   "cell_type": "markdown",
   "id": "be96c7b9",
   "metadata": {},
   "source": [
    "Question 9\n",
    "What was the Max Drawdown (expressed as a positive number) experienced over the 1999-2015 period in the SmallCap (Lo 20) portfolio?"
   ]
  },
  {
   "cell_type": "markdown",
   "id": "379fb38f",
   "metadata": {},
   "source": [
    "Question 10\n",
    "At the end of which month over the period 1999-2015 did that maximum drawdown on the SmallCap (Lo 20) portfolio occur? "
   ]
  },
  {
   "cell_type": "markdown",
   "id": "7895673b",
   "metadata": {},
   "source": [
    "Question 11\n",
    "What was the Max Drawdown (expressed as a positive number) experienced over the 1999-2015 period in the LargeCap (Hi 20) portfolio?"
   ]
  },
  {
   "cell_type": "markdown",
   "id": "7e46140c",
   "metadata": {},
   "source": [
    "Question 12\n",
    "Over the period 1999-2015, at the end of which month did that maximum drawdown of the LargeCap (Hi 20) portfolio occur? "
   ]
  },
  {
   "cell_type": "markdown",
   "id": "4b504dda",
   "metadata": {},
   "source": [
    "Question 13\n",
    "For the remaining questions, use the EDHEC Hedge Fund Indices data set that we used in the lab assignment and load them into Python. Looking at the data since 2009 (including all of 2009) through 2018 which Hedge Fund Index has exhibited the highest semideviation?  "
   ]
  },
  {
   "cell_type": "markdown",
   "id": "c2b9d8bc",
   "metadata": {},
   "source": [
    "Question 14\n",
    "Looking at the data since 2009 (including all of 2009) which Hedge Fund Index has exhibited the lowest semideviation?   "
   ]
  },
  {
   "cell_type": "markdown",
   "id": "e90518d2",
   "metadata": {},
   "source": [
    "Question 15\n",
    "Looking at the data since 2009 (including all of 2009) which Hedge Fund Index has been most negatively skewed?  "
   ]
  },
  {
   "cell_type": "markdown",
   "id": "9a34f030",
   "metadata": {},
   "source": [
    "Question 16\n",
    "Looking at the data since 2000 (including all of 2000) through 2018 which Hedge Fund Index has exhibited the highest kurtosis?"
   ]
  }
 ],
 "metadata": {
  "kernelspec": {
   "display_name": "base",
   "language": "python",
   "name": "python3"
  },
  "language_info": {
   "codemirror_mode": {
    "name": "ipython",
    "version": 3
   },
   "file_extension": ".py",
   "mimetype": "text/x-python",
   "name": "python",
   "nbconvert_exporter": "python",
   "pygments_lexer": "ipython3",
   "version": "3.11.7"
  }
 },
 "nbformat": 4,
 "nbformat_minor": 5
}
