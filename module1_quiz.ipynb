{
 "cells": [
  {
   "cell_type": "markdown",
   "id": "3336bd77",
   "metadata": {},
   "source": [
    "Read in the data in the file “Portfolios_Formed_on_ME_monthly_EW.csv” as we did in the lab sessions.We performed a series of analysis on the ‘Lo 10’ and the ‘Hi 10’ columns which are the returns of the lowest and highest decile portfolios. For purposes of this assignment, we will use the lowest and highest quintile portfolios, which are labelled ‘Lo 20’ and ‘Hi 20’ respectively."
   ]
  },
  {
   "cell_type": "markdown",
   "id": "5acba8c5",
   "metadata": {},
   "source": [
    "Question 1\n",
    "What was the Annualized Return of the Lo 20 portfolio over the entire period?"
   ]
  },
  {
   "cell_type": "code",
   "execution_count": 2,
   "id": "a0a73d7e",
   "metadata": {},
   "outputs": [
    {
     "data": {
      "text/plain": [
       "15.197701163833743"
      ]
     },
     "execution_count": 2,
     "metadata": {},
     "output_type": "execute_result"
    }
   ],
   "source": [
    "import pandas as pd\n",
    "import numpy as np\n",
    "\n",
    "# Read the CSV file\n",
    "df = pd.read_csv(\"data/Portfolios_Formed_on_ME_monthly_EW.csv\", header=0, index_col=0)\n",
    "lo_20_returns = df['Lo 20'] / 100\n",
    "\n",
    "n_months = len(lo_20_returns)\n",
    "n_years = n_months / 12\n",
    "\n",
    "cumulative_return = (1 + lo_20_returns).prod()\n",
    "annualized_return = (cumulative_return ** (1 / n_years) - 1) * 100\n",
    "\n",
    "annualized_return"
   ]
  },
  {
   "cell_type": "markdown",
   "id": "3a01b247",
   "metadata": {},
   "source": [
    "Question 2\n",
    "What was the Annualized Volatility of the Lo 20 portfolio over the entire period? "
   ]
  },
  {
   "cell_type": "code",
   "execution_count": 3,
   "id": "ed1a1688",
   "metadata": {},
   "outputs": [
    {
     "data": {
      "text/plain": [
       "33.67012751715775"
      ]
     },
     "execution_count": 3,
     "metadata": {},
     "output_type": "execute_result"
    }
   ],
   "source": [
    "monthly_volatility = lo_20_returns.std()\n",
    "annualized_volatility = monthly_volatility * np.sqrt(12) * 100\n",
    "annualized_volatility"
   ]
  },
  {
   "cell_type": "markdown",
   "id": "b3740bf0",
   "metadata": {},
   "source": [
    "Question 3\n",
    "What was the Annualized Return of the Hi 20 portfolio over the entire period? "
   ]
  },
  {
   "cell_type": "code",
   "execution_count": 4,
   "id": "6bac64de",
   "metadata": {},
   "outputs": [
    {
     "data": {
      "text/plain": [
       "9.849020951253152"
      ]
     },
     "execution_count": 4,
     "metadata": {},
     "output_type": "execute_result"
    }
   ],
   "source": [
    "hi_20_returns = df['Hi 20'] / 100\n",
    "\n",
    "n_months = len(hi_20_returns)\n",
    "n_years = n_months / 12\n",
    "\n",
    "cumulative_return = (1 + hi_20_returns).prod()\n",
    "annualized_return = (cumulative_return ** (1 / n_years) - 1) * 100\n",
    "\n",
    "annualized_return"
   ]
  },
  {
   "cell_type": "markdown",
   "id": "1b39d78b",
   "metadata": {},
   "source": [
    "Question 4\n",
    "What was the Annualized Volatility of the Hi 20 portfolio over the entire period ? "
   ]
  },
  {
   "cell_type": "code",
   "execution_count": 5,
   "id": "2d446250",
   "metadata": {},
   "outputs": [
    {
     "data": {
      "text/plain": [
       "19.511604155631314"
      ]
     },
     "execution_count": 5,
     "metadata": {},
     "output_type": "execute_result"
    }
   ],
   "source": [
    "monthly_volatility_hi = hi_20_returns.std()\n",
    "annualized_volatility_hi = monthly_volatility_hi * np.sqrt(12) * 100\n",
    "annualized_volatility_hi"
   ]
  },
  {
   "cell_type": "markdown",
   "id": "eef9687a",
   "metadata": {},
   "source": [
    "Question 5\n",
    "What was the Annualized Return of the Lo 20 portfolio over the period 1999 - 2015 (both inclusive)? "
   ]
  },
  {
   "cell_type": "code",
   "execution_count": 6,
   "id": "8e4a22bb",
   "metadata": {},
   "outputs": [
    {
     "data": {
      "text/plain": [
       "11.442634058514933"
      ]
     },
     "execution_count": 6,
     "metadata": {},
     "output_type": "execute_result"
    }
   ],
   "source": [
    "lo_20_subset = lo_20_returns[(lo_20_returns.index >= 199901) & (lo_20_returns.index <= 201512)]\n",
    "\n",
    "n_months_subset = len(lo_20_subset)\n",
    "n_years_subset = n_months_subset / 12\n",
    "\n",
    "cumulative_return_subset = (1 + lo_20_subset).prod()\n",
    "annualized_return_subset = (cumulative_return_subset ** (1 / n_years_subset) - 1) * 100\n",
    "\n",
    "annualized_return_subset"
   ]
  },
  {
   "cell_type": "markdown",
   "id": "e5309c63",
   "metadata": {},
   "source": [
    "Question 6\n",
    "What was the Annualized Volatility of the Lo 20 portfolio over the period 1999 - 2015 (both inclusive)? "
   ]
  },
  {
   "cell_type": "code",
   "execution_count": 7,
   "id": "b74b52a6",
   "metadata": {},
   "outputs": [
    {
     "data": {
      "text/plain": [
       "22.889447266699595"
      ]
     },
     "execution_count": 7,
     "metadata": {},
     "output_type": "execute_result"
    }
   ],
   "source": [
    "mon_vol_lo20subset = lo_20_subset.std()\n",
    "annualized_volatility_lo20subset = mon_vol_lo20subset * np.sqrt(12) * 100\n",
    "annualized_volatility_lo20subset\n"
   ]
  },
  {
   "cell_type": "markdown",
   "id": "a4fe5290",
   "metadata": {},
   "source": [
    "Question 7\n",
    "What was the Annualized Return of the Hi 20 portfolio over the period  1999 - 2015 (both inclusive)?"
   ]
  },
  {
   "cell_type": "code",
   "execution_count": 8,
   "id": "f0ffa0d5",
   "metadata": {},
   "outputs": [
    {
     "data": {
      "text/plain": [
       "6.286512130085109"
      ]
     },
     "execution_count": 8,
     "metadata": {},
     "output_type": "execute_result"
    }
   ],
   "source": [
    "hi_20_subset = hi_20_returns[(hi_20_returns.index >= 199901) & (hi_20_returns.index <= 201512)]\n",
    "\n",
    "n_months_hi_subset = len(hi_20_subset)\n",
    "n_years_hi_subset = n_months_hi_subset / 12\n",
    "\n",
    "cumulative_return_hi_subset = (1 + hi_20_subset).prod()\n",
    "annualized_return_hi_subset = (cumulative_return_hi_subset ** (1 / n_years_hi_subset) - 1) * 100\n",
    "\n",
    "annualized_return_hi_subset\n"
   ]
  },
  {
   "cell_type": "markdown",
   "id": "68ae4c86",
   "metadata": {},
   "source": [
    "Question 8\n",
    "What was the Annualized Volatility of the Hi 20 portfolio over the period 1999 - 2015 (both inclusive)?  "
   ]
  },
  {
   "cell_type": "code",
   "execution_count": 9,
   "id": "4f55c830",
   "metadata": {},
   "outputs": [
    {
     "data": {
      "text/plain": [
       "17.271332121250474"
      ]
     },
     "execution_count": 9,
     "metadata": {},
     "output_type": "execute_result"
    }
   ],
   "source": [
    "mon_vol_hi20subset = hi_20_subset.std()\n",
    "annualized_volatility_hi20subset = mon_vol_hi20subset * np.sqrt(12) * 100\n",
    "annualized_volatility_hi20subset\n"
   ]
  },
  {
   "cell_type": "markdown",
   "id": "be96c7b9",
   "metadata": {},
   "source": [
    "Question 9\n",
    "What was the Max Drawdown (expressed as a positive number) experienced over the 1999-2015 period in the SmallCap (Lo 20) portfolio?"
   ]
  },
  {
   "cell_type": "code",
   "execution_count": 10,
   "id": "8e16bad7",
   "metadata": {},
   "outputs": [
    {
     "data": {
      "text/plain": [
       "-62.48092431236988"
      ]
     },
     "execution_count": 10,
     "metadata": {},
     "output_type": "execute_result"
    }
   ],
   "source": [
    "wealth_index = (1 + lo_20_subset).cumprod()\n",
    "previous_peak = wealth_index.cummax()\n",
    "drawdown = (wealth_index - previous_peak) / previous_peak\n",
    "max_drawdown = drawdown.min() * 100\n",
    "max_drawdown"
   ]
  },
  {
   "cell_type": "markdown",
   "id": "379fb38f",
   "metadata": {},
   "source": [
    "Question 10\n",
    "At the end of which month over the period 1999-2015 did that maximum drawdown on the SmallCap (Lo 20) portfolio occur? "
   ]
  },
  {
   "cell_type": "code",
   "execution_count": 11,
   "id": "45c4c60f",
   "metadata": {},
   "outputs": [
    {
     "data": {
      "text/plain": [
       "200902"
      ]
     },
     "execution_count": 11,
     "metadata": {},
     "output_type": "execute_result"
    }
   ],
   "source": [
    "max_drawdown_date = drawdown.idxmin()\n",
    "max_drawdown_date"
   ]
  },
  {
   "cell_type": "markdown",
   "id": "7895673b",
   "metadata": {},
   "source": [
    "Question 11\n",
    "What was the Max Drawdown (expressed as a positive number) experienced over the 1999-2015 period in the LargeCap (Hi 20) portfolio?"
   ]
  },
  {
   "cell_type": "code",
   "execution_count": 12,
   "id": "23e0de98",
   "metadata": {},
   "outputs": [
    {
     "data": {
      "text/plain": [
       "-55.27349978713653"
      ]
     },
     "execution_count": 12,
     "metadata": {},
     "output_type": "execute_result"
    }
   ],
   "source": [
    "wealth_index_hi = (1 + hi_20_subset).cumprod()\n",
    "previous_peak_hi = wealth_index_hi.cummax()\n",
    "drawdown_hi = (wealth_index_hi - previous_peak_hi) / previous_peak_hi\n",
    "max_drawdown_hi = drawdown_hi.min() * 100\n",
    "max_drawdown_hi"
   ]
  },
  {
   "cell_type": "markdown",
   "id": "7e46140c",
   "metadata": {},
   "source": [
    "Question 12\n",
    "Over the period 1999-2015, at the end of which month did that maximum drawdown of the LargeCap (Hi 20) portfolio occur? "
   ]
  },
  {
   "cell_type": "code",
   "execution_count": 13,
   "id": "eb9f9fe2",
   "metadata": {},
   "outputs": [
    {
     "data": {
      "text/plain": [
       "200902"
      ]
     },
     "execution_count": 13,
     "metadata": {},
     "output_type": "execute_result"
    }
   ],
   "source": [
    "drawdown_hi.idxmin()"
   ]
  },
  {
   "cell_type": "markdown",
   "id": "4b504dda",
   "metadata": {},
   "source": [
    "Question 13\n",
    "For the remaining questions, use the EDHEC Hedge Fund Indices data set that we used in the lab assignment and load them into Python. Looking at the data since 2009 (including all of 2009) through 2018 which Hedge Fund Index has exhibited the highest semideviation?  "
   ]
  },
  {
   "cell_type": "code",
   "execution_count": 15,
   "id": "f45c969e",
   "metadata": {},
   "outputs": [
    {
     "name": "stderr",
     "output_type": "stream",
     "text": [
      "C:\\Users\\allen\\AppData\\Local\\Temp\\ipykernel_27048\\697245641.py:1: UserWarning: Parsing dates in %d/%m/%Y format when dayfirst=False (the default) was specified. Pass `dayfirst=True` or specify a format to silence this warning.\n",
      "  hfdata = pd.read_csv(\"data/edhec-hedgefundindices.csv\", header=0, index_col=0, parse_dates=True)\n"
     ]
    },
    {
     "data": {
      "text/plain": [
       "'Short Selling'"
      ]
     },
     "execution_count": 15,
     "metadata": {},
     "output_type": "execute_result"
    }
   ],
   "source": [
    "hfdata = pd.read_csv(\"data/edhec-hedgefundindices.csv\", header=0, index_col=0, parse_dates=True)\n",
    "hfdata_subset = hfdata.loc[\"2009-01-01\":\"2018-12-31\"]\n",
    "hfdata_returns = hfdata_subset / 100\n",
    "\n",
    "def semideviation(r):\n",
    "    \"\"\"\n",
    "    Returns the semideviation aka negative semideviation of r\n",
    "    r must be a Series or a DataFrame, else raises a TypeError\n",
    "    \"\"\"\n",
    "    is_negative = r < 0\n",
    "    return r[is_negative].std(ddof=0)\n",
    "\n",
    "semidev_hf = semideviation(hfdata_returns)\n",
    "semidev_hf.idxmax()"
   ]
  },
  {
   "cell_type": "markdown",
   "id": "c2b9d8bc",
   "metadata": {},
   "source": [
    "Question 14\n",
    "Looking at the data since 2009 (including all of 2009) which Hedge Fund Index has exhibited the lowest semideviation?   "
   ]
  },
  {
   "cell_type": "code",
   "execution_count": 16,
   "id": "bffdefe4",
   "metadata": {},
   "outputs": [
    {
     "data": {
      "text/plain": [
       "'Fixed Income Arbitrage'"
      ]
     },
     "execution_count": 16,
     "metadata": {},
     "output_type": "execute_result"
    }
   ],
   "source": [
    "semidev_hf.idxmin()"
   ]
  },
  {
   "cell_type": "markdown",
   "id": "e90518d2",
   "metadata": {},
   "source": [
    "Question 15\n",
    "Looking at the data since 2009 (including all of 2009) which Hedge Fund Index has been most negatively skewed?  "
   ]
  },
  {
   "cell_type": "code",
   "execution_count": 20,
   "id": "b98e6466",
   "metadata": {},
   "outputs": [
    {
     "data": {
      "text/plain": [
       "'Equity Market Neutral'"
      ]
     },
     "execution_count": 20,
     "metadata": {},
     "output_type": "execute_result"
    }
   ],
   "source": [
    "def skewness(r):\n",
    "    \"\"\"\n",
    "    Alternative to scipy.stats.skew()\n",
    "    Computes the skewness of the supplied Series or DataFrame\n",
    "    Returns a float or a Series\n",
    "    \"\"\"\n",
    "    demeaned_r = r - r.mean()\n",
    "    # use the population standard deviation, so set dof=0\n",
    "    sigma_r = r.std(ddof=0)\n",
    "    exp = (demeaned_r**3).mean()\n",
    "    return exp/sigma_r**3\n",
    "\n",
    "hfdata_f09 = hfdata_returns.loc[\"2009-01-01\":]\n",
    "skewness_hf = skewness(hfdata_f09)\n",
    "skewness_hf.idxmin()"
   ]
  },
  {
   "cell_type": "markdown",
   "id": "9a34f030",
   "metadata": {},
   "source": [
    "Question 16\n",
    "Looking at the data since 2000 (including all of 2000) through 2018 which Hedge Fund Index has exhibited the highest kurtosis?"
   ]
  },
  {
   "cell_type": "code",
   "execution_count": 23,
   "id": "457e0c0d",
   "metadata": {},
   "outputs": [
    {
     "data": {
      "text/plain": [
       "'Convertible Arbitrage'"
      ]
     },
     "execution_count": 23,
     "metadata": {},
     "output_type": "execute_result"
    }
   ],
   "source": [
    "import nb.edhec_risk_kit_105 as erk\n",
    "hfdata_f00 = hfdata_returns.loc[\"2000-01-01\":]\n",
    "kurtosis_hf = erk.kurtosis(hfdata_f00)\n",
    "kurtosis_hf.idxmax()\n",
    "\n"
   ]
  }
 ],
 "metadata": {
  "kernelspec": {
   "display_name": "base",
   "language": "python",
   "name": "python3"
  },
  "language_info": {
   "codemirror_mode": {
    "name": "ipython",
    "version": 3
   },
   "file_extension": ".py",
   "mimetype": "text/x-python",
   "name": "python",
   "nbconvert_exporter": "python",
   "pygments_lexer": "ipython3",
   "version": "3.11.7"
  }
 },
 "nbformat": 4,
 "nbformat_minor": 5
}
